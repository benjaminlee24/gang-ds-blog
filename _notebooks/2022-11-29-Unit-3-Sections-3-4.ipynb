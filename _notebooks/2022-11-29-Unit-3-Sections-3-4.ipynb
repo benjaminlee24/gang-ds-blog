{
 "cells": [
  {
   "cell_type": "markdown",
   "metadata": {},
   "source": [
    "# Unit 3 Section 3-4 Blog\n",
    "> Unit 3 Section 3-4\n",
    "\n",
    "- toc: true \n",
    "- branch: master\n",
    "- badges: true\n",
    "- comments: true\n",
    "- author: Ben Lee\n",
    "- categories: [Week 14]\n",
    "- image: images/chart-preview.png"
   ]
  },
  {
   "cell_type": "markdown",
   "metadata": {},
   "source": [
    "# Notes\n",
    "-Implementing steps sequentially entails, for instance, carrying out the first action before moving on to the second, third, etc.\n",
    "\n",
    "-Iteration is the process of repeating a step until the requirement is met.\n",
    "\n",
    "-Programs created using programming languages can execute algorithms that have been expressed in a variety of ways.\n",
    "\n",
    "-Sequencing, selection, and iteration can be combined to create any algorithm.\n",
    "\n",
    "-We humans use algorithms on a daily basis; an algorithm is a finite set of instructions that accomplishes a certain task.\n",
    "\n",
    "-When a coder chooses between two possible results, this is called selection."
   ]
  },
  {
   "cell_type": "markdown",
   "metadata": {},
   "source": [
    "# Vocab\n",
    "algorithm- finite set of instructions that accomplish a specific task, composed of sequencing, selection, and iteration.\n",
    "\n",
    "iteration- repeating steps or instructions over and over again\n",
    "\n",
    "selection- a section of code is run only if a condition is met.\n",
    "\n",
    "sequencing- outline or set of steps that we do and follow in order that they are given\n",
    "\n",
    "variable- you can store an actual value, the value of a variable in another variable, the result of an operation, or result of a procedural call\n",
    "\n",
    "String: a sequence of characters"
   ]
  },
  {
   "cell_type": "code",
   "execution_count": 1,
   "metadata": {},
   "outputs": [
    {
     "name": "stdout",
     "output_type": "stream",
     "text": [
      "[0, 2, 4, 6, 8, 10]\n"
     ]
    }
   ],
   "source": [
    "numbers = [0,1,2,3,4,5,6,7,8,9,10]\n",
    "evens = []\n",
    "\n",
    "for i in numbers:\n",
    "    if (numbers[i] % 2 == 0):\n",
    "        evens.append(numbers[i])\n",
    "\n",
    "print(evens)"
   ]
  },
  {
   "cell_type": "markdown",
   "metadata": {},
   "source": [
    "Sequencing: all pf the steps\n",
    "\n",
    "Iteration:They go through all the numbers in the step \"for I in numbers:\"\n",
    "\n",
    "Selection: \"if (numbers[i]% 2 == 0)\" due to the fact that they sort each number to discover the even ones,"
   ]
  },
  {
   "cell_type": "code",
   "execution_count": 2,
   "metadata": {},
   "outputs": [
    {
     "name": "stdout",
     "output_type": "stream",
     "text": [
      "*\n",
      "**\n",
      "***\n",
      "****\n",
      "*****\n"
     ]
    }
   ],
   "source": [
    "i = 1\n",
    "starString = \"*\"\n",
    "while i <= 5:\n",
    "  j = 1\n",
    "  while j <= i:\n",
    "    print (\"*\", end= \"\")\n",
    "    j += 1\n",
    "  print ()\n",
    "  i += 1"
   ]
  },
  {
   "cell_type": "markdown",
   "metadata": {},
   "source": [
    "Sequence: all steps\n",
    "\n",
    "Iteration: \"While I <>= 5:\" since they keep going until i's 5.\n",
    "\n",
    "Selection: \"While j <>= I\" since this is where they choose what j is,"
   ]
  },
  {
   "cell_type": "markdown",
   "metadata": {},
   "source": [
    "# 3.3 Video 2 Hacks\n",
    "## Practice Problems\n",
    "given the following code segment below:\n",
    "a ⟵ 7\n",
    "\n",
    "b ⟵ 1\n",
    "\n",
    "c ⟵ 3\n",
    "\n",
    "d ⟵ 4\n",
    "\n",
    "a ⟵ b\n",
    "\n",
    "b ⟵ c + d\n",
    "\n",
    "d ⟵ b\n",
    "\n",
    "a = 1, b = 7, c = 3, d = 7\n",
    "\n",
    "consider the following code segment:\n",
    "hot ⟵ true\n",
    "\n",
    "cold ⟵ false\n",
    "\n",
    "cold ⟵ hot\n",
    "\n",
    "hot ⟵ cold\n",
    "\n",
    "what are the values of hot and cold after executing the code segment?\n",
    "\n",
    "the value of hot is true, the value of cold is true\n",
    "the value of hot is false, the value of cold is true\n",
    "the value of hot is true, the value of cold is false\n",
    "the value of hot is false, the value of cold is false\n",
    "Answer: 1. the value of hot is true, the value of cold is true\n",
    "\n",
    "1.Sequencing"
   ]
  },
  {
   "cell_type": "code",
   "execution_count": 3,
   "metadata": {},
   "outputs": [],
   "source": [
    "num1 = 3\n",
    "num2 = 1\n",
    "num3 = 5\n",
    "num1 = num2 + num3      \n",
    "num2 = num1 + num3      # num2 is now the new num1 + num3"
   ]
  },
  {
   "cell_type": "markdown",
   "metadata": {},
   "source": [
    "Answer num1 = 6, num2 = 11"
   ]
  },
  {
   "cell_type": "markdown",
   "metadata": {},
   "source": [
    "# 3.4 Video 1 Hacks\n",
    "## String Homework\n",
    "Test 1\n",
    "\n",
    "firstName <- \"Bob\" lastName <- \"Smith\" var <- substring(firstName, 1, 1) name <- concat(lastName, var) email <- concat(name, \"@gmail.com\") DISPLAY(email)\n",
    "\n",
    "What would the result be?\n",
    "\n",
    "Hint: var = \"B\" name = \"SmithB\"\n",
    "\n",
    "Answer: SmithB@gmail.com\n",
    "\n",
    "Test 2\n",
    "\n",
    "word1 <- \"computer\" word2 <- \"textbooks\" length1 <- len(word1)/2 length2 <- len(word2)/3 first <- substring(word1, 2, len1) second <- substring(word2, len2+3, len2) newWord <- concat(first, second) DISPLAY(newWord)\n",
    "\n",
    "Answer:ompuook\n",
    "\n",
    "# Reflection\n",
    "These lessons were a little difficult at first, but with persistence, I was able to grasp the ideas, which enabled me to correctly respond to the questions. I took a lot away from the presentation because it was amazing."
   ]
  }
 ],
 "metadata": {
  "kernelspec": {
   "display_name": "Python 3.9.6 64-bit",
   "language": "python",
   "name": "python3"
  },
  "language_info": {
   "codemirror_mode": {
    "name": "ipython",
    "version": 3
   },
   "file_extension": ".py",
   "mimetype": "text/x-python",
   "name": "python",
   "nbconvert_exporter": "python",
   "pygments_lexer": "ipython3",
   "version": "3.9.6"
  },
  "orig_nbformat": 4,
  "vscode": {
   "interpreter": {
    "hash": "31f2aee4e71d21fbe5cf8b01ff0e069b9275f58929596ceb00d14d90e3e16cd6"
   }
  }
 },
 "nbformat": 4,
 "nbformat_minor": 2
}
