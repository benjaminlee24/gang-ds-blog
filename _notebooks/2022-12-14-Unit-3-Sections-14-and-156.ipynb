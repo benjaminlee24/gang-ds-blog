{
 "cells": [
  {
   "cell_type": "markdown",
   "metadata": {},
   "source": [
    "# Unit 3 Section 14 and 15 Blog\n",
    "> Unit 3 Section 14 and 15\n",
    "\n",
    "- toc: true \n",
    "- branch: master\n",
    "- badges: true\n",
    "- comments: true\n",
    "- author: Ben Lee\n",
    "- categories: [Week 16]\n",
    "- image: images/chart-preview.png"
   ]
  },
  {
   "cell_type": "markdown",
   "metadata": {},
   "source": [
    "# Reflection\n",
    "I gained knowledge about APIs, libraries, and documentation. The AP Exam project portion includes documentation, which entails describing what and how your code does its thing. Because libraries are pre-written and you can reference them throughout your code, they serve to make coding more effective. In programs, randomization can be quite helpful. Many of the programs that we use, such games and webpages, use randomization."
   ]
  },
  {
   "cell_type": "markdown",
   "metadata": {},
   "source": [
    "# Notes\n",
    "- Procedures found in software libraries are utilized to create new programs.\n",
    "\n",
    "- The creation of algorithms can be greatly simplified by libraries and prewritten code.\n",
    "\n",
    "- Libraries make complex programs simpler.\n",
    "\n",
    "- Application program interfaces (APIs) define how library procedures should act and be used.\n",
    "\n",
    "- Reading the documentation makes it much simpler to understand how to use libraries and APIs.\n",
    "\n",
    "- Among the helpful random functions are:\n",
    "    - Creates a random number using random.randint(a, b). As the start and finish values, a and b's values are necessary in order to set an inclusive limit on the number that can be generated. The optional step C determines the interval at which random numbers are created.\n",
    "\n",
    "    - A random integer is produced using the function random.randrange(a, b, c). As the start and finish values, a and b's values are necessary in order to set an inclusive limit on the number that can be generated. The step that explains the type of multiple that can be formed is C. The potential value is less than b and begins at an or is a multiple of c plus a multiple of a.\n",
    "\n",
    "    - The function random.shuffle randomly shuffles a list's contents."
   ]
  },
  {
   "cell_type": "markdown",
   "metadata": {},
   "source": [
    "# MC\n",
    "1. What does the random(a,b) function generate?\n",
    "\n",
    "A. A random integer from a to be exclusive\n",
    "B. A random integer from a to b inclusive.\n",
    "C. A random word from variable a to variable b exclusive.\n",
    "D. A random word from variable a to variable b inclusive.\n",
    "\n",
    "Answer: B, since it contains the endpoints and all of those intermediate numbers\n",
    "\n",
    "2. What is x, y, and z in random.randrange(x, y, z)?\n",
    "\n",
    "A. x = start, y = stop, z = step\n",
    "B. x = start, y = step, z = stop\n",
    "C. x = stop, y = start, z = step\n",
    "D. x = step, y = start, z = stop\n",
    "\n",
    "Answer: A, the order is start, stop, step\n",
    "\n",
    "3. Which of the following is NOT part of the random library?\n",
    "\n",
    "A. random.item\n",
    "B. random.random\n",
    "C. random.shuffle\n",
    "D. random.randint\n",
    "\n",
    "Answer: A, the item random.item doesn't exist. Using random.random, a float between 0 and 1 is produced. The function random.shuffle randomly arranges a list. A random integer is produced using random.randint."
   ]
  },
  {
   "cell_type": "markdown",
   "metadata": {},
   "source": [
    "# Short Answer Questions\n",
    "\n",
    "## 1\n",
    "Users can access and reuse pre-written code by using libraries. This enables the improvement of algorithms' efficiency. Additionally, there are numerous libraries that are developed for a variety of applications, which makes it simpler for programmers to construct algorithms with greater complexity.\n",
    "\n",
    "## 2\n",
    "The first line of code imports the random library. The software then gathers names from user input and compiles them into a list (names). The number of items in the list is then determined by the variable num items. Using a random number generator, the random choice variable creates an index for the list. The random.randint function is used by random choice to provide a value from 0 to the maximum index (length of list minus 1). Then the software identifies the individual who is connected to the value that was generated at random. The name of that person is then printed by the application.\n",
    "\n",
    "Documentation: I assign the variable names string to the names the user enters using the random function in the library. The names will be separated using commas by the split function. Each name will be assigned a number by num items, which will then use the random function randint to choose a random number for each name. The procedure then returns the text and the name."
   ]
  },
  {
   "cell_type": "code",
   "execution_count": 1,
   "metadata": {},
   "outputs": [
    {
     "name": "stdout",
     "output_type": "stream",
     "text": [
      "Riggi is going to buy the meal today!\n"
     ]
    }
   ],
   "source": [
    "import random \n",
    "\n",
    "names_string = input(\"Give me everybody's names, seperated by a comma.\")\n",
    "names = names_string.split(\",\")\n",
    "\n",
    "num_items = len(names)\n",
    "\n",
    "random_choice = random.randint(0, num_items - 1)\n",
    "\n",
    "person_who_will_pay = names[random_choice]\n",
    "\n",
    "print(f\"{person_who_will_pay} is going to buy the meal today!\")"
   ]
  },
  {
   "cell_type": "markdown",
   "metadata": {},
   "source": [
    "# Code"
   ]
  },
  {
   "cell_type": "code",
   "execution_count": 2,
   "metadata": {},
   "outputs": [
    {
     "name": "stdout",
     "output_type": "stream",
     "text": [
      "['Drew', 'Hayden', 'Sanburg', 'Nate', 'Jack']\n"
     ]
    }
   ],
   "source": [
    "import random\n",
    "\n",
    "names_list = [\"Riggi\", \"Nico\", \"Drew\", \"Avery\", \"Jack\", \"Jaden\", \"Dean\", \"Cole\", \"Zion\", \"Hayden\", \"Nate\", \"Ryder\", \"Connor\", \"Ash\", \"Sanburg\", \"Ron Jay\"]\n",
    "random_list = []\n",
    "\n",
    "def addPeople(list, new_list):\n",
    "    count = 1\n",
    "    while count <= 5:\n",
    "        number = random.randint(0, len(list) - 1)\n",
    "        new_list.append(list[number])\n",
    "        count += 1\n",
    "    return new_list\n",
    "\n",
    "print(addPeople(names_list, random_list))"
   ]
  },
  {
   "cell_type": "code",
   "execution_count": 4,
   "metadata": {},
   "outputs": [
    {
     "name": "stdout",
     "output_type": "stream",
     "text": [
      "Player 1 won game 1 with a score of 6 points!\n",
      "Both players tied with 9 points!\n"
     ]
    }
   ],
   "source": [
    "import random\n",
    "score1 = 0\n",
    "score2 = 0\n",
    "\n",
    "def DiceGame():\n",
    "    score1 = random.randint(1, 6) + random.randint(1, 6)\n",
    "    score2 = random.randint(1, 6) + random.randint(1, 6)\n",
    "    if score1 > score2:\n",
    "        print(\"Player 1 won game 1 with a score of \" + str(score1) + \" points!\")\n",
    "    if score1 < score2:\n",
    "        print(\"Player 2 won game 2 with a score of \" + str(score2) + \" points!\")\n",
    "    if score1 == score2:\n",
    "        print(\"Both players tied with \" + str(score1) + \" points!\")\n",
    "\n",
    "DiceGame()\n",
    "DiceGame()"
   ]
  },
  {
   "cell_type": "code",
   "execution_count": 5,
   "metadata": {},
   "outputs": [
    {
     "name": "stdout",
     "output_type": "stream",
     "text": [
      "x S 0 x 0\n",
      "0 x 0 0 x\n",
      "0 0 0 E x\n",
      "0 x 0 0 x\n",
      "0 0 0 x x\n"
     ]
    }
   ],
   "source": [
    "import random\n",
    "\n",
    "# defining constraints\n",
    "width = 5\n",
    "height = 5\n",
    "obstacles = 12\n",
    "\n",
    "# creates the maze\n",
    "maze = [[0 for i in range(width)] for j in range(height)]\n",
    "\n",
    "# for loop to generate obstacles\n",
    "for i in range(obstacles):\n",
    "    x = random.randint(0, width - 1)\n",
    "    y = random.randint(0, height - 1)\n",
    "    maze[x][y] = 'x' # represents obstacles\n",
    "\n",
    "# function to create a start and end position\n",
    "def startEnd():\n",
    "    a = random.randint(0, width - 1)\n",
    "    b = random.randint(0, height - 1)\n",
    "    maze[a][b] = 'S' # represents the start position\n",
    "    c = random.randint(0, width - 1)\n",
    "    d = random.randint(0, height - 1)\n",
    "    maze[c][d] = 'E' # represents the end position\n",
    "\n",
    "startEnd()\n",
    "\n",
    "# function to print the maze\n",
    "for row in maze:\n",
    "    print(' '.join(str(cell) for cell in row))"
   ]
  }
 ],
 "metadata": {
  "kernelspec": {
   "display_name": "Python 3.9.6 64-bit",
   "language": "python",
   "name": "python3"
  },
  "language_info": {
   "codemirror_mode": {
    "name": "ipython",
    "version": 3
   },
   "file_extension": ".py",
   "mimetype": "text/x-python",
   "name": "python",
   "nbconvert_exporter": "python",
   "pygments_lexer": "ipython3",
   "version": "3.9.6"
  },
  "orig_nbformat": 4,
  "vscode": {
   "interpreter": {
    "hash": "31f2aee4e71d21fbe5cf8b01ff0e069b9275f58929596ceb00d14d90e3e16cd6"
   }
  }
 },
 "nbformat": 4,
 "nbformat_minor": 2
}
