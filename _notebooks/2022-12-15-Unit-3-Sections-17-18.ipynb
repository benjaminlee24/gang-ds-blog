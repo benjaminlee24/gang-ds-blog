{
 "cells": [
  {
   "cell_type": "markdown",
   "metadata": {},
   "source": [
    "# Unit 3 Section 17 and 18 Blog\n",
    "> Unit 3 Section 17 and 18\n",
    "\n",
    "- toc: true \n",
    "- branch: master\n",
    "- badges: true\n",
    "- comments: true\n",
    "- author: Ben Lee\n",
    "- categories: [Week 16]\n",
    "- image: images/chart-preview.png"
   ]
  },
  {
   "cell_type": "markdown",
   "metadata": {},
   "source": [
    "# Notes\n",
    "- An algorithm’s efficiency is determine through formal or mathematical reasoning.\n",
    "\n",
    "- Decidable problem: problems for which algorithms can be written to solve/produce a correct output for all possible inputs.\n",
    "\n",
    "- Decision problem: problem with a binary answer (yes or no). An optimization problem is a problem with the objective of finding the BEST solution amongst many possibilities to solve a problem.\n",
    "\n",
    "- Problem: description of a task that may or may not be able to be solved through the use of an algorithm. An instance of a problem includes a specific input. One example of this type of problem is a sorting problem.\n",
    "\n",
    "- Undecidable problem: problems for which no algorithms can be built that can provide a correct yes or no answer."
   ]
  },
  {
   "cell_type": "markdown",
   "metadata": {},
   "source": [
    "# Hack 1\n",
    "Decidable problems are those that can be solved through the use of an algorithm. An example is determining whether a number is even or odd. Undecidable problems cant be solved with an algorithmic procedure. An example is the halting problem which asks if the program will run forever or halt."
   ]
  },
  {
   "cell_type": "markdown",
   "metadata": {},
   "source": [
    "# Hack 2\n",
    "Which of the following is a 3 step algorithm?\n",
    "\n",
    "A. 2 x 6 x 8\n",
    "\n",
    "B. 4^5\n",
    "\n",
    "C. (3 x 8)^2\n",
    "\n",
    "D. None of the above\n",
    "\n",
    "E. All of the above\n",
    "\n",
    "C is the correct answer since you have to multiply the numbers inside of the parenthesis then take that value to the power of two."
   ]
  },
  {
   "cell_type": "markdown",
   "metadata": {},
   "source": [
    "# Hacks 3 and 4"
   ]
  },
  {
   "cell_type": "code",
   "execution_count": 2,
   "metadata": {},
   "outputs": [
    {
     "ename": "SyntaxError",
     "evalue": "invalid syntax (570793608.py, line 1)",
     "output_type": "error",
     "traceback": [
      "\u001b[0;36m  Cell \u001b[0;32mIn[2], line 1\u001b[0;36m\u001b[0m\n\u001b[0;31m    function peak_finder(array) {\u001b[0m\n\u001b[0m             ^\u001b[0m\n\u001b[0;31mSyntaxError\u001b[0m\u001b[0;31m:\u001b[0m invalid syntax\n"
     ]
    }
   ],
   "source": [
    "function peak_finder(array) {\n",
    "  var peak = array[0];\n",
    "  for (i = 0; i < array.length; i ++) {\n",
    "    if (array[i] > peak) {\n",
    "      var peak = array[i];\n",
    "    }\n",
    "  }\n",
    "  return peak;\n",
    "}\n",
    "\n",
    "var numbers = [1, 2, 3, 4, 5, 6, 7, 8];\n",
    "console.log(peak_finder(numbers));"
   ]
  },
  {
   "cell_type": "code",
   "execution_count": 5,
   "metadata": {},
   "outputs": [
    {
     "name": "stdout",
     "output_type": "stream",
     "text": [
      "original list\n",
      "[9, 1, 7, 6, 2, 8, 5, 3, 4, 0]\n",
      "-----------------\n",
      "sorted list\n",
      "[0, 1, 2, 3, 4, 5, 6, 7, 8, 9]\n"
     ]
    }
   ],
   "source": [
    "data = [9, 1, 7, 6, 2, 8, 5, 3, 4, 0]\n",
    "\n",
    "print(\"original list\")\n",
    "print(data)\n",
    "data.sort()\n",
    "print(\"-----------------\")\n",
    "print(\"sorted list\")\n",
    "print(data)"
   ]
  },
  {
   "cell_type": "markdown",
   "metadata": {},
   "source": [
    "# Hack 5\n",
    "Explanation for Code: Imports the permutation method from the library itertools. Using this, we can use a built in command to create permutations. Using a for loop, we can iterate through all possible permutations, and print them."
   ]
  },
  {
   "cell_type": "code",
   "execution_count": 4,
   "metadata": {},
   "outputs": [
    {
     "name": "stdout",
     "output_type": "stream",
     "text": [
      "(1, 2, 3)\n",
      "(1, 3, 2)\n",
      "(2, 1, 3)\n",
      "(2, 3, 1)\n",
      "(3, 1, 2)\n",
      "(3, 2, 1)\n"
     ]
    }
   ],
   "source": [
    "from itertools import permutations\n",
    "\n",
    "data = [1, 2, 3]\n",
    "\n",
    "for i in permutations(data):\n",
    "    print(i)"
   ]
  },
  {
   "cell_type": "markdown",
   "metadata": {},
   "source": [
    "# Reflection\n",
    "These lessons were a little difficult at first, but with persistence, I was able to grasp the ideas, which enabled me to correctly respond to the questions. I took a lot away from the presentation because it was amazing."
   ]
  }
 ],
 "metadata": {
  "kernelspec": {
   "display_name": "Python 3.9.6 64-bit",
   "language": "python",
   "name": "python3"
  },
  "language_info": {
   "codemirror_mode": {
    "name": "ipython",
    "version": 3
   },
   "file_extension": ".py",
   "mimetype": "text/x-python",
   "name": "python",
   "nbconvert_exporter": "python",
   "pygments_lexer": "ipython3",
   "version": "3.9.6"
  },
  "orig_nbformat": 4,
  "vscode": {
   "interpreter": {
    "hash": "31f2aee4e71d21fbe5cf8b01ff0e069b9275f58929596ceb00d14d90e3e16cd6"
   }
  }
 },
 "nbformat": 4,
 "nbformat_minor": 2
}
