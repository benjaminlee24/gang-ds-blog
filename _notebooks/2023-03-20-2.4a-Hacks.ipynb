{
 "cells": [
  {
   "cell_type": "markdown",
   "metadata": {},
   "source": [
    "#  2.4 Hacks\n",
    "- toc: true\n",
    "- image: /images/python.png\n",
    "- categories: []\n",
    "- type: ap\n",
    "- week: 26"
   ]
  },
  {
   "cell_type": "code",
   "execution_count": 7,
   "metadata": {},
   "outputs": [],
   "source": [
    "import sqlite3 \n",
    "\n",
    "def create_connection(db): \n",
    "    connection = None\n",
    "    try: \n",
    "        connection = sqlite3.connect(db)\n",
    "        return connection \n",
    "    except Error as e: \n",
    "        print(e)\n",
    "    return connection \n",
    "\n",
    "def create_table(connection, createTblSql): \n",
    "    try: \n",
    "        cursor = connection.cursor()\n",
    "        cursor.execute(createTblSql)\n",
    "    except Error as e: \n",
    "        print(e)\n",
    "\n",
    "def main(): \n",
    "    database = 'instance/basketball.db'\n",
    "\n",
    "    createTblSql = \"\"\" CREATE TABLE IF NOT EXISTS basketball (\n",
    "                                        _id integer PRIMARY KEY,\n",
    "                                        _player text NOT NULL,\n",
    "                                        _team text NOT NULL,\n",
    "                                        _position text NOT NULL,\n",
    "                                        _opinion text NOT NULL\n",
    "                                    ); \"\"\"\n",
    "    connection = create_connection(database)\n",
    "\n",
    "    # create books table\n",
    "    if connection is not None:\n",
    "        create_table(connection, createTblSql)\n",
    "    else:\n",
    "        print('Connection Error')\n",
    "\n",
    "\n",
    "if __name__ == '__main__':\n",
    "    main()"
   ]
  },
  {
   "cell_type": "markdown",
   "metadata": {},
   "source": [
    "# Create"
   ]
  },
  {
   "cell_type": "code",
   "execution_count": 22,
   "metadata": {},
   "outputs": [
    {
     "name": "stdout",
     "output_type": "stream",
     "text": [
      "New basketball with Jordan Poole is added.\n"
     ]
    }
   ],
   "source": [
    "def create():\n",
    "    database = 'instance/basketball.db'\n",
    "    player = input(\"Enter the player name\")\n",
    "    team = input(\"Enter team name\")\n",
    "    position = input(\"Enter player position\")\n",
    "    opinion = input(\"Enter your opinion \")\n",
    "\n",
    "    # Connecting to the database, create cursor to execute the SQL command\n",
    "    connection = sqlite3.connect(database)\n",
    "    cursor = connection.cursor()\n",
    "\n",
    "    try:\n",
    "        # Execute SQL to insert record in to db\n",
    "        cursor.execute(\"INSERT INTO basketball (_player, _team, _position, _opinion) VALUES (?, ?, ?, ?)\", (player, team, position, opinion))\n",
    "        # Commit the changes\n",
    "        connection.commit()\n",
    "        print(f\"New basketball with {player} is added.\")\n",
    "                \n",
    "    except sqlite3.Error as error:\n",
    "        print(\"Error while inserting record\", error)\n",
    "\n",
    "    # Closing cursor and connection\n",
    "    cursor.close()\n",
    "    connection.close()\n",
    "    \n",
    "create()"
   ]
  },
  {
   "cell_type": "markdown",
   "metadata": {},
   "source": [
    "# Read"
   ]
  },
  {
   "cell_type": "code",
   "execution_count": 23,
   "metadata": {},
   "outputs": [
    {
     "name": "stdout",
     "output_type": "stream",
     "text": [
      "(1, 'Kobe Bryant', 'Lakers', 'SG', 'The greatest of all time!')\n",
      "(2, 'Kobe Bryant', 'Lakers', 'Sg', 'Better than Lebron')\n",
      "(3, 'Austin Reaves', 'Lakers', 'Sg', 'Best white boy in the NBA')\n",
      "(4, 'Jordan Poole', 'Warriors', 'Pg', 'Lowkey Sexy')\n"
     ]
    }
   ],
   "source": [
    "def read():\n",
    "\n",
    "    database = 'instance/basketball.db'\n",
    "    # Connecting to the database, create cursor to execute the SQL command\n",
    "    connection = sqlite3.connect(database)\n",
    "    cursor = connection.cursor()\n",
    "    \n",
    "    # Fetch all the records from basketball table\n",
    "    results = cursor.execute('SELECT * FROM basketball').fetchall()\n",
    "\n",
    "    if len(results) != 0:\n",
    "        for row in results:\n",
    "            print(row)\n",
    "    else:\n",
    "        print(\"No basketball\")\n",
    "\n",
    "    # Closing cursor and connection\n",
    "    cursor.close()\n",
    "    connection.close()\n",
    "\n",
    "read()"
   ]
  },
  {
   "cell_type": "markdown",
   "metadata": {},
   "source": [
    "# Update"
   ]
  },
  {
   "cell_type": "code",
   "execution_count": 24,
   "metadata": {},
   "outputs": [
    {
     "name": "stdout",
     "output_type": "stream",
     "text": [
      "Review for the basketball is updated to He's lowkey sexy\n"
     ]
    }
   ],
   "source": [
    "import sqlite3\n",
    "\n",
    "# updating review\n",
    "def update():  \n",
    "    \n",
    "    database = 'instance/basketball.db'\n",
    "    basketballId = input(\"Enter a basketball id to update the review\")\n",
    "    opinion = input(\"Enter new opinion\")\n",
    "\n",
    "   # Connecting to the database, create cursor to execute the SQL command\n",
    "    connection = sqlite3.connect(database)\n",
    "    cursor = connection.cursor()\n",
    "\n",
    "    try:\n",
    "        # Updating review for the basketball\n",
    "        cursor.execute(\"UPDATE basketball SET _opinion = ? WHERE _id = ?\", (opinion, basketballId))\n",
    "        if cursor.rowcount != 0:\n",
    "            print(f\"Review for the basketball is updated to {opinion}\")\n",
    "            connection.commit()\n",
    "        else:\n",
    "            print(f\"basketball not found\")\n",
    "    except sqlite3.Error as error:\n",
    "        print(\"Error occurred\", error)\n",
    "        \n",
    "    # Closing cursor and connection\n",
    "    cursor.close()\n",
    "    connection.close()\n",
    "\n",
    "\n",
    "update()"
   ]
  },
  {
   "cell_type": "markdown",
   "metadata": {},
   "source": [
    "# Delete"
   ]
  },
  {
   "cell_type": "code",
   "execution_count": 25,
   "metadata": {},
   "outputs": [
    {
     "name": "stdout",
     "output_type": "stream",
     "text": [
      "Successfully deleted book with id 4\n"
     ]
    }
   ],
   "source": [
    "import sqlite3\n",
    "\n",
    "def delete():\n",
    "    \n",
    "    database = 'instance/basketball.db'\n",
    "    basketballId = input(\"Enter basketball id to delete\")\n",
    "\n",
    "    # Connecting to the database, create cursor to execute the SQL command\n",
    "    connection = sqlite3.connect(database)\n",
    "    cursor = connection.cursor()\n",
    "    \n",
    "    try:\n",
    "        cursor.execute(\"DELETE FROM basketball WHERE _id = ?\", (basketballId,))\n",
    "        if cursor.rowcount == 0:\n",
    "            print(f\"{basketballId} does not exist\")\n",
    "        else:\n",
    "            print(f\"Successfully deleted book with id {basketballId}\")\n",
    "        connection.commit()\n",
    "    except sqlite3.Error as error:\n",
    "        print(\"Error occurred: \", error)\n",
    "        \n",
    "    # Closing cursor and connection\n",
    "    cursor.close()\n",
    "    connection.close()\n",
    "\n",
    "delete()"
   ]
  }
 ],
 "metadata": {
  "kernelspec": {
   "display_name": "Python 3.9.12 ('base')",
   "language": "python",
   "name": "python3"
  },
  "language_info": {
   "codemirror_mode": {
    "name": "ipython",
    "version": 3
   },
   "file_extension": ".py",
   "mimetype": "text/x-python",
   "name": "python",
   "nbconvert_exporter": "python",
   "pygments_lexer": "ipython3",
   "version": "3.9.12"
  },
  "orig_nbformat": 4,
  "vscode": {
   "interpreter": {
    "hash": "4ae454bc2ab087d9d9ae87f28549d48b8c0c4b4b2054b3e2c119e72806421469"
   }
  }
 },
 "nbformat": 4,
 "nbformat_minor": 2
}
