{
 "cells": [
  {
   "cell_type": "markdown",
   "metadata": {},
   "source": [
    "# Unit 3 Section 8 and 10 Blog\n",
    "> Unit 3 Section 8 and 10\n",
    "\n",
    "- toc: true \n",
    "- branch: master\n",
    "- badges: true\n",
    "- comments: true\n",
    "- author: Ben Lee\n",
    "- categories: [Week 15]\n",
    "- image: images/chart-preview.png"
   ]
  },
  {
   "cell_type": "markdown",
   "metadata": {},
   "source": [
    "# Exercise 1"
   ]
  },
  {
   "cell_type": "code",
   "execution_count": 3,
   "metadata": {},
   "outputs": [
    {
     "name": "stdout",
     "output_type": "stream",
     "text": [
      "[1, 2, 3, 4, 5]\n",
      "[5, 4, 3, 2, 1]\n"
     ]
    }
   ],
   "source": [
    "list = [1, 2, 3, 4, 5]\n",
    "newlist = [] # Defining new list\n",
    "interval = len(list) - 1 # Another variable to store highest index\n",
    "\n",
    "# for loop, goes through all items\n",
    "for index in range(1, len(list) + 1):\n",
    "    i = index - 1\n",
    "    newlist.append(list[interval - i]) # appends all numbers backwards\n",
    "\n",
    "print(list)\n",
    "# Using commands to reverse\n",
    "list.reverse()\n",
    "print(newlist)"
   ]
  },
  {
   "cell_type": "markdown",
   "metadata": {},
   "source": [
    "# Exercise 2"
   ]
  },
  {
   "cell_type": "code",
   "execution_count": 4,
   "metadata": {},
   "outputs": [
    {
     "name": "stdout",
     "output_type": "stream",
     "text": [
      "before [9, 8, 4, 3, 5, 2, 6, 7, 1, 0]\n",
      "after [0, 1, 2, 3, 4, 5, 6, 7, 8, 9]\n"
     ]
    }
   ],
   "source": [
    "list = [9, 8, 4, 3, 5, 2, 6, 7, 1, 0]\n",
    "print(f\"before {list}\")\n",
    "def insertion_sort(list):\n",
    "    for index in range(1,len(list)): # repeats through length of the array\n",
    "        value = list[index]\n",
    "        i = index - 1\n",
    "        while i >= 0:\n",
    "            if value < list[i]:\n",
    "                list[i+1] = list[i] # shift number in slot i to the right\n",
    "                list[i] = value # shift value left into slot i\n",
    "                i = i - 1\n",
    "            else:\n",
    "                break\n",
    "\n",
    "IS = insertion_sort(list)\n",
    "print(f\"after {list}\")"
   ]
  },
  {
   "cell_type": "markdown",
   "metadata": {},
   "source": [
    "# Quiz Corrections\n",
    "\n",
    "![]({{site.baseurl}}/images/Screen Shot 2022-12-06 at 11.36.57 PM.png \"Q10\")\n",
    "\n",
    "Within the big list, there are three nested lists. Once more, I overlooked the fact that while loops repeatedly execute until a condition is satisfied. This list and loop would be for loops because there are no requirements that must be satisfied."
   ]
  },
  {
   "cell_type": "markdown",
   "metadata": {},
   "source": [
    "# Vocabulary\n",
    "\n",
    "Array - Another name for a list, depends on the language\n",
    "\n",
    "append, remove, pop - Various methods, append adds an element to the end, remove removes at an index, and pop removes the last item.\n",
    "\n",
    "Condition - Allows the computer to know whether or not to keep repeating the loop.\n",
    "\n",
    "Elements [in a list] - An item in a list.\n",
    "\n",
    "For Loop - FOR LOOP repeats a function for a set number of times; I is the number of times repeated\n",
    "\n",
    "Iteration - Repetition of a Process\n",
    "\n",
    "Initialization - What sets the counter variable to a starting value. For example (var i = 0) represents an initial value of 0.\n",
    "\n",
    "increment/decrement - Modifies the counter variable after each repetition.\n",
    "\n",
    "Indexing / List Index - The position of an element in a list, starting from 0\n",
    "\n",
    "Nesting - Having one data type or function inside another data type or function, such as lists or loops.\n",
    "\n",
    "While Loop - The while loop is used to repeat a section of code an unknown number of times until a specific condition is met"
   ]
  },
  {
   "cell_type": "markdown",
   "metadata": {},
   "source": [
    "# Reflection\n",
    "These lessons were a little difficult at first, but with persistence, I was able to grasp the ideas, which enabled me to correctly respond to the questions. I took a lot away from the presentation because it was amazing."
   ]
  }
 ],
 "metadata": {
  "kernelspec": {
   "display_name": "Python 3.9.6 64-bit",
   "language": "python",
   "name": "python3"
  },
  "language_info": {
   "codemirror_mode": {
    "name": "ipython",
    "version": 3
   },
   "file_extension": ".py",
   "mimetype": "text/x-python",
   "name": "python",
   "nbconvert_exporter": "python",
   "pygments_lexer": "ipython3",
   "version": "3.9.6"
  },
  "orig_nbformat": 4,
  "vscode": {
   "interpreter": {
    "hash": "31f2aee4e71d21fbe5cf8b01ff0e069b9275f58929596ceb00d14d90e3e16cd6"
   }
  }
 },
 "nbformat": 4,
 "nbformat_minor": 2
}
