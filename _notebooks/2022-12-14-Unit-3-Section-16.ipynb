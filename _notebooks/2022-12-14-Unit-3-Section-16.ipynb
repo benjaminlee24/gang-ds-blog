{
 "cells": [
  {
   "cell_type": "markdown",
   "metadata": {},
   "source": [
    "# Unit 3 Section 16 Blog\n",
    "> Unit 3 Section 16\n",
    "\n",
    "- toc: true \n",
    "- branch: master\n",
    "- badges: true\n",
    "- comments: true\n",
    "- author: Ben Lee\n",
    "- categories: [Week 16]\n",
    "- image: images/chart-preview.png"
   ]
  },
  {
   "cell_type": "markdown",
   "metadata": {},
   "source": [
    "# Notes\n",
    "- Can use a psuedo-random number generator to represent things like roling a dice\n",
    "- Experiments are usually much harder to do than simulations, but involve all real world variables\n",
    "- Important to use flowcharts to plan out simulations\n",
    "- Simulation: simpler abstraction of an very complicated natural phenomena\n",
    "- Simulations remove details that are unnecessary or are too difficult to simulate\n",
    "- Simulations are cheaper to do, safer, repeatable, and can be used to make predictions\n",
    "- Simulations can be used for complex scenarioes\n",
    "- Things like rolling a dice have many things affecting it\n",
    "- Will take a lot of conditionals, iteration"
   ]
  },
  {
   "cell_type": "markdown",
   "metadata": {},
   "source": [
    "# Hacks\n",
    "| Question     | Answer |\n",
    "| ---------- | ---------- |\n",
    "| Name(First+Last)  | Benjamin Lee |\n",
    "| 1 | none |\n",
    "| 2 | none |\n",
    "| 3 | C |\n",
    "| 4 | C |\n",
    "| 5 | C |\n",
    "| 6 | A |\n",
    "| 7 | A |\n",
    "| 8 | none |\n",
    "| 9 | B |"
   ]
  },
  {
   "cell_type": "markdown",
   "metadata": {},
   "source": [
    "# Explanations for Answers\n",
    "3) Using a pseudo-random number generator in a simulation can make it less accurate, so it is better to avoid using one.\n",
    "\n",
    "4) In a flight simulation, the least likely factor to be removed for the sake of functionality is imperfections on aircraft.\n",
    "\n",
    "5) The main difference between an experiment and a simulation is the situation being considered.\n",
    "\n",
    "6) A car company can use simulation to determine the safety of their new car in the event of a crash, as it would be too dangerous to conduct such an experiment on real vehicles.\n",
    "\n",
    "7) An environmental group may use simulation to accurately predict the impact of the greenhouse effect on the environment, as it would be harmful to conduct an experiment on the actual environment.\n",
    "\n",
    "9) A teacher can use an experiment to find the average score on a final exam, as this will simply involve calculating the average and does not require simulation."
   ]
  },
  {
   "cell_type": "markdown",
   "metadata": {},
   "source": [
    "# Extra Credit"
   ]
  },
  {
   "cell_type": "code",
   "execution_count": 1,
   "metadata": {},
   "outputs": [
    {
     "name": "stdout",
     "output_type": "stream",
     "text": [
      "Here are the results of the dice rolling simulation.\n",
      "Frequency of 1: 15.1%\n",
      "Frequency of 2: 17.2%\n",
      "Frequency of 3: 14.7%\n",
      "Frequency of 4: 15.5%\n",
      "Frequency of 5: 18.099999999999998%\n",
      "Frequency of 6: 19.400000000000002%\n"
     ]
    }
   ],
   "source": [
    "import random\n",
    "\n",
    "tracker = {1:0, 2:0, 3:0, 4:0, 5:0, 6:0}\n",
    "i = 0\n",
    "\n",
    "def diceGame():\n",
    "    dice_roll = random.randint(1, 6)\n",
    "    return dice_roll\n",
    "\n",
    "while i < 1000:\n",
    "    score = diceGame()\n",
    "    tracker[score] += 1\n",
    "    i += 1\n",
    "\n",
    "print(\"Here are the results of the dice rolling simulation.\")\n",
    "for j in range(1, 7):\n",
    "    tracker[j] = ((tracker[j])/1000)*100\n",
    "    print(\"Frequency of \" + str(j) + \": \" + str(tracker[j]) + \"%\")"
   ]
  },
  {
   "cell_type": "markdown",
   "metadata": {},
   "source": [
    "# Reflection\n",
    "These lessons were a little difficult at first, but with persistence, I was able to grasp the ideas, which enabled me to correctly respond to the questions. I took a lot away from the presentation because it was amazing."
   ]
  }
 ],
 "metadata": {
  "kernelspec": {
   "display_name": "Python 3.9.6 64-bit",
   "language": "python",
   "name": "python3"
  },
  "language_info": {
   "codemirror_mode": {
    "name": "ipython",
    "version": 3
   },
   "file_extension": ".py",
   "mimetype": "text/x-python",
   "name": "python",
   "nbconvert_exporter": "python",
   "pygments_lexer": "ipython3",
   "version": "3.9.6"
  },
  "orig_nbformat": 4,
  "vscode": {
   "interpreter": {
    "hash": "31f2aee4e71d21fbe5cf8b01ff0e069b9275f58929596ceb00d14d90e3e16cd6"
   }
  }
 },
 "nbformat": 4,
 "nbformat_minor": 2
}
