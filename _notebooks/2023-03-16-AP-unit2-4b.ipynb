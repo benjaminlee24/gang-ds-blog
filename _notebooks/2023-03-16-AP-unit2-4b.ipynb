{
 "cells": [
  {
   "attachments": {},
   "cell_type": "markdown",
   "metadata": {},
   "source": [
    "#  Unit 2.4b Using Programs with Data, SQL\n",
    "> Using Programs with Data is focused on SQL and database actions.  Part B focuses on learning SQL commands, connections, and curses using an Imperative programming style,\n",
    "- toc: true\n",
    "- image: /images/python.png\n",
    "- categories: []\n",
    "- type: ap\n",
    "- week: 26"
   ]
  },
  {
   "attachments": {},
   "cell_type": "markdown",
   "metadata": {},
   "source": [
    "# Database Programming is Program with Data\n",
    "> Each Tri 2 Final Project should be an example of a Program with Data. \n",
    "\n",
    ">  Prepare to use SQLite in common Imperative Technique\n",
    "- Explore [SQLite Connect object](https://www.tutorialspoint.com/python_data_access/python_sqlite_establishing_connection.htm) to establish database connection\n",
    "- Explore [SQLite Cursor Object](https://www.tutorialspoint.com/python_data_access/python_sqlite_cursor_object.htm) to fetch data from a table within a database\n"
   ]
  },
  {
   "attachments": {},
   "cell_type": "markdown",
   "metadata": {},
   "source": [
    "## Schema of Users table in Sqlite.db\n",
    "> Uses PRAGMA statement to read schema.\n",
    "\n",
    "Describe Schema, here is resource [Resource](https://www.sqlite.org/index.html)\n",
    "- What is a database schema?\n",
    "    - A database schema is the structure or blueprint that defines how data is organized in a database. It defines the tables, fields, relationships, and constraints of a database, and provides a clear and comprehensive view of the data model that an application or system uses to store and manage data.\n",
    "- What is the purpose of identity Column in SQL database?\n",
    "    - In SQL databases, an identity column is a special type of column that automatically generates unique numeric values for each row that is inserted into a table. The purpose of an identity column is to provide a unique identifier for each row in the table, without requiring the user to manually enter a value for that column.\n",
    "- What is the purpose of a primary key in SQL database?\n",
    "    - In SQL databases, a primary key is a column or set of columns that uniquely identifies each row in a table. The purpose of a primary key is to ensure that each row in the table can be uniquely identified and retrieved, and that the data in the table is organized and structured in a consistent and efficient manner.\n",
    "- What are the Data Types in SQL table?\n",
    "    - Some example types are booleans, blob, string, integer, and binary."
   ]
  },
  {
   "cell_type": "code",
   "execution_count": 1,
   "metadata": {},
   "outputs": [
    {
     "name": "stdout",
     "output_type": "stream",
     "text": [
      "(0, 'id', 'INTEGER', 1, None, 1)\n",
      "(1, '_name', 'VARCHAR(255)', 1, None, 0)\n",
      "(2, '_uid', 'VARCHAR(255)', 1, None, 0)\n",
      "(3, '_password', 'VARCHAR(255)', 1, None, 0)\n",
      "(4, '_dob', 'DATE', 0, None, 0)\n"
     ]
    }
   ],
   "source": [
    "import sqlite3\n",
    "\n",
    "database = 'instance/sqlite.db' # this is location of database\n",
    "\n",
    "def schema():\n",
    "    \n",
    "    # Connect to the database file\n",
    "    conn = sqlite3.connect(database)\n",
    "\n",
    "    # Create a cursor object to execute SQL queries\n",
    "    cursor = conn.cursor()\n",
    "    \n",
    "    # Fetch results of Schema\n",
    "    results = cursor.execute(\"PRAGMA table_info('users')\").fetchall()\n",
    "\n",
    "    # Print the results\n",
    "    for row in results:\n",
    "        print(row)\n",
    "\n",
    "    # Close the database connection\n",
    "    conn.close()\n",
    "    \n",
    "schema()\n"
   ]
  },
  {
   "attachments": {},
   "cell_type": "markdown",
   "metadata": {},
   "source": [
    "## Reading Users table in Sqlite.db\n",
    "> Uses SQL SELECT statement to read data\n",
    "\n",
    "- What is a connection object?  After you google it, what do you think it does?\n",
    "    - A connection object is an object that represents a connection to a database or other data source. It is used to establish a connection between an application and a database, and to manage that connection throughout the lifetime of the application.\n",
    "- Same for cursor object?\n",
    "    - After reading what it is on Google, I believe that it process each row that are queued in the database, and thats how it reads it in order to display the results.\n",
    "- Look at conn object and cursor object in VSCode debugger.  What attributes are in the object?\n",
    "    - Attributes in conn are create, menu, read, schema, database, file, ipykernel, os, sqlite3 and sys. Attributes in cursor are conn, create, meny, read, schema, database, file, ipykernel, os, sqlite3, sys.\n",
    "- Is \"results\" an object?  How do you know?\n",
    "    - Results is an object because an object has functions and data, which is what is shown when we debug it and look at the results, there are special variables, function variables, etc."
   ]
  },
  {
   "cell_type": "code",
   "execution_count": 3,
   "metadata": {},
   "outputs": [
    {
     "name": "stdout",
     "output_type": "stream",
     "text": [
      "(1, 'Thomas Edison', 'toby', 'sha256$cK3QKp8T9ZIj612M$549688ff5052bd411970e0979fef40ce3541ba4b4f032347d6ba667b0ec5f763', '1847-02-11')\n",
      "(2, 'Nikola Tesla', 'niko', 'sha256$OYYXHXz8vQSg1Ev2$faa73af96f5bfa82f66be5887b4737289a0681709cdbf70ac03c901baacef124', '2023-03-15')\n",
      "(3, 'Alexander Graham Bell', 'lex', 'sha256$5Azjop5Vw7LTgmgm$d9465f2ed8e81808678308c3d22b36b4c977815e99408870a516fbe5c04e64d8', '2023-03-15')\n",
      "(4, 'Eli Whitney', 'whit', 'sha256$DVAc5UYyEXcLWInh$28c0af8f464d3a66df09e2f65d94b93bf63be36fd149b7277f5ba6b9639cccfd', '2023-03-15')\n",
      "(5, 'Indiana Jones', 'indi', 'sha256$KPGfoMPb5pX21rCr$49af576cb0e1ed21535a4d2f42218c75e75457bf4a8a90c2f3673dd380c86b5e', '1920-10-21')\n",
      "(6, 'Marion Ravenwood', 'raven', 'sha256$kKqBw4YVxjopW6oa$8d00639895a589c86681a46b925071f04d5cd22f83133e836bfde945188c0525', '1921-10-21')\n"
     ]
    }
   ],
   "source": [
    "import sqlite3\n",
    "\n",
    "def read():\n",
    "    # Connect to the database file\n",
    "    conn = sqlite3.connect(database)\n",
    "\n",
    "    # Create a cursor object to execute SQL queries\n",
    "    cursor = conn.cursor()\n",
    "    \n",
    "    # Execute a SELECT statement to retrieve data from a table\n",
    "    results = cursor.execute('SELECT * FROM users').fetchall()\n",
    "\n",
    "    # Print the results\n",
    "    if len(results) == 0:\n",
    "        print(\"Table is empty\")\n",
    "    else:\n",
    "        for row in results:\n",
    "\n",
    "\n",
    "            print(row)\n",
    "\n",
    "    # Close the cursor and connection objects\n",
    "    cursor.close()\n",
    "    conn.close()\n",
    "    \n",
    "read()\n"
   ]
  },
  {
   "attachments": {},
   "cell_type": "markdown",
   "metadata": {},
   "source": [
    "## Create a new User in table in Sqlite.db\n",
    "> Uses SQL INSERT to add row\n",
    "-  Compore create() in both SQL lessons.  What is better or worse in the two implementations?\n",
    "    - The 2.4a lesson does create by has try and excepts for each one individually, while this one lists all the things being created then has the try and except functions after. Im not to sure what is better or worse, but I think that off of looks that this cell below seems better when trying to create a lot of things at once.\n",
    "-  Explain purpose of SQL INSERT.   Is this the same as User __init__?\n",
    "    - The purpose fo SQL insert is to add new data into the database, I think it is because user init initializes the data meaning it assigns an initial value for a variable or data object. However I think init should be used to make the dataset then insert should be just strictly for adding new data in."
   ]
  },
  {
   "cell_type": "code",
   "execution_count": 6,
   "metadata": {},
   "outputs": [
    {
     "name": "stdout",
     "output_type": "stream",
     "text": [
      "A new user record benlee2 has been created\n"
     ]
    }
   ],
   "source": [
    "import sqlite3\n",
    "\n",
    "def create():\n",
    "    name = input(\"Enter your name:\")\n",
    "    uid = input(\"Enter your user id:\")\n",
    "    password = input(\"Enter your password\")\n",
    "    dob = input(\"Enter your date of birth 'YYYY-MM-DD'\")\n",
    "    \n",
    "    # Connect to the database file\n",
    "    conn = sqlite3.connect(database)\n",
    "\n",
    "    # Create a cursor object to execute SQL commands\n",
    "    cursor = conn.cursor()\n",
    "\n",
    "    try:\n",
    "        # Execute an SQL command to insert data into a table\n",
    "        cursor.execute(\"INSERT INTO users (_name, _uid, _password, _dob) VALUES (?, ?, ?, ?)\", (name, uid, password, dob))\n",
    "        \n",
    "        # Commit the changes to the database\n",
    "        conn.commit()\n",
    "        print(f\"A new user record {uid} has been created\")\n",
    "                \n",
    "    except sqlite3.Error as error:\n",
    "        print(\"Error while executing the INSERT:\", error)\n",
    "\n",
    "\n",
    "    # Close the cursor and connection objects\n",
    "    cursor.close()\n",
    "    conn.close()\n",
    "    \n",
    "create()"
   ]
  },
  {
   "attachments": {},
   "cell_type": "markdown",
   "metadata": {},
   "source": [
    "## Updating a User in table in Sqlite.db\n",
    "> Uses SQL UPDATE to modify password\n",
    "- What does the hacked part do?\n",
    "    - I think that hacked part helps towards encrypting the password so it is not as easily accessible.\n",
    "- Explain try/except, when would except occur?\n",
    "    - Try would happen when a user wants to reset or make new password, I think except would occur if the problem was not that no user id has been found or row for password was changed, bur not entirely sure exactly what the problem would be for this to happen.\n",
    "- What code seems to be repeated in each of these examples to point, why is it repeated?\n",
    "    - It seems to be close cursor or connection, I think it is done so that it finishes processing, therefore results can be displayed."
   ]
  },
  {
   "cell_type": "code",
   "execution_count": 8,
   "metadata": {},
   "outputs": [
    {
     "name": "stdout",
     "output_type": "stream",
     "text": [
      "The row with user id benlee2 the password has been successfully updated\n"
     ]
    }
   ],
   "source": [
    "import sqlite3\n",
    "\n",
    "def update():\n",
    "    uid = input(\"Enter user id to update\")\n",
    "    password = input(\"Enter updated password\")\n",
    "    if len(password) < 2:\n",
    "        message = \"hacked\"\n",
    "        password = 'gothackednewpassword123'\n",
    "    else:\n",
    "        message = \"successfully updated\"\n",
    "\n",
    "    # Connect to the database file\n",
    "    conn = sqlite3.connect(database)\n",
    "\n",
    "    # Create a cursor object to execute SQL commands\n",
    "    cursor = conn.cursor()\n",
    "\n",
    "    try:\n",
    "        # Execute an SQL command to update data in a table\n",
    "        cursor.execute(\"UPDATE users SET _password = ? WHERE _uid = ?\", (password, uid))\n",
    "        if cursor.rowcount == 0:\n",
    "            # The uid was not found in the table\n",
    "            print(f\"No uid {uid} was not found in the table\")\n",
    "        else:\n",
    "            print(f\"The row with user id {uid} the password has been {message}\")\n",
    "            conn.commit()\n",
    "    except sqlite3.Error as error:\n",
    "        print(\"Error while executing the UPDATE:\", error)\n",
    "        \n",
    "    \n",
    "    # Close the cursor and connection objects\n",
    "    cursor.close()\n",
    "    conn.close()\n",
    "    \n",
    "update()\n"
   ]
  },
  {
   "attachments": {},
   "cell_type": "markdown",
   "metadata": {},
   "source": [
    "## Delete a User in table in Sqlite.db\n",
    "> Uses a delete function to remove a user based on a user input of the id.\n",
    "- Is DELETE a dangerous operation?  Why?\n",
    "    - It is not dangerous because deleting is part of the process of data if things are put incorrectly, and you can always input new data anyways.\n",
    "- In the print statemements, what is the \"f\" and what does {uid} do?\n",
    "    - I think f find the userid, the bracket uid displays that certain uid found"
   ]
  },
  {
   "cell_type": "code",
   "execution_count": null,
   "metadata": {},
   "outputs": [],
   "source": [
    "import sqlite3\n",
    "\n",
    "def delete():\n",
    "    uid = input(\"Enter user id to delete\")\n",
    "\n",
    "    # Connect to the database file\n",
    "    conn = sqlite3.connect(database)\n",
    "\n",
    "    # Create a cursor object to execute SQL commands\n",
    "    cursor = conn.cursor()\n",
    "    \n",
    "    try:\n",
    "        cursor.execute(\"DELETE FROM users WHERE _uid = ?\", (uid,))\n",
    "        if cursor.rowcount == 0:\n",
    "            # The uid was not found in the table\n",
    "            print(f\"No uid {uid} was not found in the table\")\n",
    "        else:\n",
    "            # The uid was found in the table and the row was deleted\n",
    "            print(f\"The row with uid {uid} was successfully deleted\")\n",
    "        conn.commit()\n",
    "    except sqlite3.Error as error:\n",
    "        print(\"Error while executing the DELETE:\", error)\n",
    "        \n",
    "    # Close the cursor and connection objects\n",
    "    cursor.close()\n",
    "    conn.close()\n",
    "    \n",
    "#delete()"
   ]
  },
  {
   "attachments": {},
   "cell_type": "markdown",
   "metadata": {},
   "source": [
    "# Menu Interface to CRUD operations\n",
    "> CRUD and Schema interactions from one location by running menu. Observe input at the top of VSCode, observe output underneath code cell.\n",
    "- Why does the menu repeat?\n",
    "    - Menu repeats because it is the main thing that connects you to CRUD or S.\n",
    "- Could you refactor this menu?  Make it work with a List?\n",
    "    - I am not entirely sure, but it does sound possible."
   ]
  },
  {
   "cell_type": "code",
   "execution_count": 10,
   "metadata": {},
   "outputs": [
    {
     "name": "stdout",
     "output_type": "stream",
     "text": [
      "(1, 'Thomas Edison', 'toby', 'sha256$cK3QKp8T9ZIj612M$549688ff5052bd411970e0979fef40ce3541ba4b4f032347d6ba667b0ec5f763', '1847-02-11')\n",
      "(2, 'Nikola Tesla', 'niko', 'sha256$OYYXHXz8vQSg1Ev2$faa73af96f5bfa82f66be5887b4737289a0681709cdbf70ac03c901baacef124', '2023-03-15')\n",
      "(3, 'Alexander Graham Bell', 'lex', 'sha256$5Azjop5Vw7LTgmgm$d9465f2ed8e81808678308c3d22b36b4c977815e99408870a516fbe5c04e64d8', '2023-03-15')\n",
      "(4, 'Eli Whitney', 'whit', 'sha256$DVAc5UYyEXcLWInh$28c0af8f464d3a66df09e2f65d94b93bf63be36fd149b7277f5ba6b9639cccfd', '2023-03-15')\n",
      "(5, 'Indiana Jones', 'indi', 'sha256$KPGfoMPb5pX21rCr$49af576cb0e1ed21535a4d2f42218c75e75457bf4a8a90c2f3673dd380c86b5e', '1920-10-21')\n",
      "(6, 'Marion Ravenwood', 'raven', 'sha256$kKqBw4YVxjopW6oa$8d00639895a589c86681a46b925071f04d5cd22f83133e836bfde945188c0525', '1921-10-21')\n",
      "(7, 'Ben', 'benlee2', 'ganggang', '')\n",
      "(8, '', '', '', '')\n"
     ]
    }
   ],
   "source": [
    "# Menu, to run other cells from one control point\n",
    "def menu():\n",
    "    operation = input(\"Enter: (C)reate (R)ead (U)pdate or (D)elete or (S)chema\")\n",
    "    if operation.lower() == 'c':\n",
    "        create()\n",
    "    elif operation.lower() == 'r':\n",
    "        read()\n",
    "    elif operation.lower() == 'u':\n",
    "        update()\n",
    "    elif operation.lower() == 'd':\n",
    "        delete()\n",
    "    elif operation.lower() == 's':\n",
    "        schema()\n",
    "    elif len(operation)==0: # Escape Key\n",
    "        return\n",
    "    else:\n",
    "        print(\"Please enter c, r, u, or d\") \n",
    "    menu() # recursion, repeat menu\n",
    "        \n",
    "try:\n",
    "    menu() # start menu\n",
    "except:\n",
    "    print(\"Perform Jupyter 'Run All' prior to starting menu\")\n"
   ]
  },
  {
   "attachments": {},
   "cell_type": "markdown",
   "metadata": {},
   "source": [
    "# Hacks\n",
    "- Add this Blog to you own Blogging site.  In the Blog add notes and observations on each code cell.\n",
    "- In this implementation, do you see procedural abstraction?\n",
    "- In 2.4a or 2.4b lecture\n",
    "    - Do you see data abstraction?  Complement this with Debugging example.\n",
    "    - Use Imperative or OOP style to Create a new Table or do something that applies to your CPT project.\n",
    "    \n",
    "\n",
    "Reference... [sqlite documentation](https://www.sqlitetutorial.net/sqlite-python/creating-tables/)\n"
   ]
  }
 ],
 "metadata": {
  "kernelspec": {
   "display_name": "Python 3.9.12 ('base')",
   "language": "python",
   "name": "python3"
  },
  "language_info": {
   "codemirror_mode": {
    "name": "ipython",
    "version": 3
   },
   "file_extension": ".py",
   "mimetype": "text/x-python",
   "name": "python",
   "nbconvert_exporter": "python",
   "pygments_lexer": "ipython3",
   "version": "3.9.12"
  },
  "orig_nbformat": 4,
  "vscode": {
   "interpreter": {
    "hash": "4ae454bc2ab087d9d9ae87f28549d48b8c0c4b4b2054b3e2c119e72806421469"
   }
  }
 },
 "nbformat": 4,
 "nbformat_minor": 2
}
